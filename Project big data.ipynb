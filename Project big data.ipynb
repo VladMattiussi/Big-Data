{
 "cells": [
  {
   "cell_type": "code",
   "execution_count": 1,
   "id": "65fc5cec-5c5e-435d-a62e-50632c269228",
   "metadata": {
    "execution": {
     "iopub.execute_input": "2022-07-20T20:01:06.444715Z",
     "iopub.status.busy": "2022-07-20T20:01:06.444493Z",
     "iopub.status.idle": "2022-07-20T20:01:06.916616Z",
     "shell.execute_reply": "2022-07-20T20:01:06.915898Z",
     "shell.execute_reply.started": "2022-07-20T20:01:06.444691Z"
    },
    "tags": []
   },
   "outputs": [
    {
     "data": {
      "text/html": [
       "Current session configs: <tt>{'executorMemory': '5G', 'numExecutors': 2, 'executorCores': 3, 'conf': {'spark.dynamicAllocation.enabled': 'false'}, 'proxyUser': 'assumed-role_voclabs_user1847199_vlad_mattiussi_studio_unibo_it', 'kind': 'spark'}</tt><br>"
      ],
      "text/plain": [
       "<IPython.core.display.HTML object>"
      ]
     },
     "metadata": {},
     "output_type": "display_data"
    },
    {
     "data": {
      "text/html": [
       "No active sessions."
      ],
      "text/plain": [
       "<IPython.core.display.HTML object>"
      ]
     },
     "metadata": {},
     "output_type": "display_data"
    }
   ],
   "source": [
    "%%configure -f\n",
    "{\"executorMemory\":\"5G\", \"numExecutors\":2, \"executorCores\":3, \"conf\": {\"spark.dynamicAllocation.enabled\": \"false\"}}"
   ]
  },
  {
   "cell_type": "code",
   "execution_count": 2,
   "id": "4584e9cf-fddf-4231-a190-edc85798fc36",
   "metadata": {
    "execution": {
     "iopub.execute_input": "2022-07-20T20:01:08.935699Z",
     "iopub.status.busy": "2022-07-20T20:01:08.935479Z",
     "iopub.status.idle": "2022-07-20T20:01:41.159402Z",
     "shell.execute_reply": "2022-07-20T20:01:41.158621Z",
     "shell.execute_reply.started": "2022-07-20T20:01:08.935674Z"
    },
    "tags": []
   },
   "outputs": [
    {
     "data": {
      "application/vnd.jupyter.widget-view+json": {
       "model_id": "8c0ff6c2f86a4c609bb04d02a0dd3b5f",
       "version_major": 2,
       "version_minor": 0
      },
      "text/plain": [
       "VBox()"
      ]
     },
     "metadata": {},
     "output_type": "display_data"
    },
    {
     "name": "stdout",
     "output_type": "stream",
     "text": [
      "Starting Spark application\n"
     ]
    },
    {
     "data": {
      "text/html": [
       "<table>\n",
       "<tr><th>ID</th><th>YARN Application ID</th><th>Kind</th><th>State</th><th>Spark UI</th><th>Driver log</th><th>User</th><th>Current session?</th></tr><tr><td>0</td><td>application_1658344938261_0001</td><td>spark</td><td>idle</td><td><a target=\"_blank\" href=\"http://ip-172-31-74-171.ec2.internal:20888/proxy/application_1658344938261_0001/\" class=\"emr-proxy-link\" emr-resource=\"j-6XJ6E175OL0F\n",
       "\" application-id=\"application_1658344938261_0001\">Link</a></td><td><a target=\"_blank\" href=\"http://ip-172-31-70-177.ec2.internal:8042/node/containerlogs/container_1658344938261_0001_01_000001/livy\" >Link</a></td><td>None</td><td>✔</td></tr></table>"
      ],
      "text/plain": [
       "<IPython.core.display.HTML object>"
      ]
     },
     "metadata": {},
     "output_type": "display_data"
    },
    {
     "data": {
      "application/vnd.jupyter.widget-view+json": {
       "model_id": "",
       "version_major": 2,
       "version_minor": 0
      },
      "text/plain": [
       "FloatProgress(value=0.0, bar_style='info', description='Progress:', layout=Layout(height='25px', width='50%'),…"
      ]
     },
     "metadata": {},
     "output_type": "display_data"
    },
    {
     "name": "stdout",
     "output_type": "stream",
     "text": [
      "SparkSession available as 'spark'.\n"
     ]
    },
    {
     "data": {
      "application/vnd.jupyter.widget-view+json": {
       "model_id": "",
       "version_major": 2,
       "version_minor": 0
      },
      "text/plain": [
       "FloatProgress(value=0.0, bar_style='info', description='Progress:', layout=Layout(height='25px', width='50%'),…"
      ]
     },
     "metadata": {},
     "output_type": "display_data"
    },
    {
     "name": "stdout",
     "output_type": "stream",
     "text": [
      "bucketname: String = unibo-bd2122-vmattiussi\n",
      "path_ml_tripdata: String = s3a://unibo-bd2122-vmattiussi/datasets/project/2018/yellow_tripdata_2018-01.parquet\n",
      "path_ml_tripdata802: String = s3a://unibo-bd2122-vmattiussi/datasets/project/2018/yellow_tripdata_2018-02.parquet\n",
      "res3: String = application_1658344938261_0001\n",
      "res5: String = SPARK UI: Enable forwarding of port 20888 and connect to http://localhost:20888/proxy/application_1658344938261_0001/\n"
     ]
    }
   ],
   "source": [
    "val bucketname = \"unibo-bd2122-vmattiussi\"\n",
    "\n",
    "val path_ml_tripdata = \"s3a://\"+bucketname+\"/datasets/project/2018/yellow_tripdata_2018-01.parquet\" //\"s3a://\"+bucketname+\"/datasets/project/2017/\"\n",
    "val path_ml_tripdata802 = \"s3a://\"+bucketname+\"/datasets/project/2018/yellow_tripdata_2018-02.parquet\" //\"s3a://\"+bucketname+\"/datasets/project/2016/\"\n",
    "\n",
    "sc.applicationId\n",
    "\n",
    "\"SPARK UI: Enable forwarding of port 20888 and connect to http://localhost:20888/proxy/\" + sc.applicationId + \"/\""
   ]
  },
  {
   "cell_type": "markdown",
   "id": "19990a61-3ad7-4256-bc3f-80b924f67311",
   "metadata": {},
   "source": [
    "# Dataset\n",
    "Il dataset contiene dati sui viaggi effetuati dai \"yellow taxi\" di new york negli anni 2018-2017-2016.\n",
    "I dati sono presenti nel formato Parquet; dopo essere stati importati, tutti i job sono stati fatti dopo una successiva conversione in RDD.\n",
    "I dati sono raggruppati mensilmente, per un totale di 36 file Parquet.\n",
    "Link: https://www1.nyc.gov/site/tlc/about/tlc-trip-record-data.page"
   ]
  },
  {
   "cell_type": "markdown",
   "id": "61ec500d-ff0d-417c-8234-42b53a184c12",
   "metadata": {},
   "source": [
    "Importazione dei dati in formato Parquet."
   ]
  },
  {
   "cell_type": "code",
   "execution_count": 3,
   "id": "c7c659ea-6b03-4937-8208-d7f8b3c1235a",
   "metadata": {
    "execution": {
     "iopub.execute_input": "2022-07-20T20:02:24.532967Z",
     "iopub.status.busy": "2022-07-20T20:02:24.532754Z",
     "iopub.status.idle": "2022-07-20T20:02:33.899826Z",
     "shell.execute_reply": "2022-07-20T20:02:33.899112Z",
     "shell.execute_reply.started": "2022-07-20T20:02:24.532943Z"
    },
    "tags": []
   },
   "outputs": [
    {
     "data": {
      "application/vnd.jupyter.widget-view+json": {
       "model_id": "051c3bab78ce4abe8c6891e5f586c578",
       "version_major": 2,
       "version_minor": 0
      },
      "text/plain": [
       "VBox()"
      ]
     },
     "metadata": {},
     "output_type": "display_data"
    },
    {
     "data": {
      "application/vnd.jupyter.widget-view+json": {
       "model_id": "",
       "version_major": 2,
       "version_minor": 0
      },
      "text/plain": [
       "FloatProgress(value=0.0, bar_style='info', description='Progress:', layout=Layout(height='25px', width='50%'),…"
      ]
     },
     "metadata": {},
     "output_type": "display_data"
    },
    {
     "name": "stdout",
     "output_type": "stream",
     "text": [
      "import spark.implicits._\n",
      "parquetFileDF: org.apache.spark.sql.DataFrame = [VendorID: bigint, tpep_pickup_datetime: timestamp ... 17 more fields]\n",
      "parquetFileDF802: org.apache.spark.sql.DataFrame = [VendorID: bigint, tpep_pickup_datetime: timestamp ... 17 more fields]\n"
     ]
    }
   ],
   "source": [
    "import spark.implicits._\n",
    "val parquetFileDF = spark.read.parquet(path_ml_tripdata)\n",
    "val parquetFileDF802 = spark.read.parquet(path_ml_tripdata802)"
   ]
  },
  {
   "cell_type": "markdown",
   "id": "bcab57cc-6c43-403a-8096-c3dce94a7c19",
   "metadata": {
    "execution": {
     "iopub.execute_input": "2022-07-08T13:45:32.302081Z",
     "iopub.status.busy": "2022-07-08T13:45:32.301831Z",
     "iopub.status.idle": "2022-07-08T13:45:33.073437Z",
     "shell.execute_reply": "2022-07-08T13:45:33.072740Z",
     "shell.execute_reply.started": "2022-07-08T13:45:32.302054Z"
    },
    "tags": []
   },
   "source": [
    "## Analisi dei campi del dataset\n",
    "- pickup: timestamp del momento dell'inizio del viaggio.\n",
    "- dropoff: timestamp del momento della fine del viaggio.\n",
    "- passenger: numero di clienti passeggeri.\n",
    "- distance: distanza totale in km percorsa dal taxi per questo viaggio.\n",
    "- startloc: zona di partenza del viaggio.\n",
    "- endloc: zona di arrivo del viaggio.\n",
    "- fare: prezzo del viaggio."
   ]
  },
  {
   "cell_type": "code",
   "execution_count": 4,
   "id": "cf00e895-5b05-4dae-8692-b8dfb650389a",
   "metadata": {
    "execution": {
     "iopub.execute_input": "2022-07-20T20:02:37.807838Z",
     "iopub.status.busy": "2022-07-20T20:02:37.807576Z",
     "iopub.status.idle": "2022-07-20T20:02:39.094985Z",
     "shell.execute_reply": "2022-07-20T20:02:39.094375Z",
     "shell.execute_reply.started": "2022-07-20T20:02:37.807813Z"
    },
    "tags": []
   },
   "outputs": [
    {
     "data": {
      "application/vnd.jupyter.widget-view+json": {
       "model_id": "df4ccdcac7b5485b865fcb8cc0877679",
       "version_major": 2,
       "version_minor": 0
      },
      "text/plain": [
       "VBox()"
      ]
     },
     "metadata": {},
     "output_type": "display_data"
    },
    {
     "data": {
      "application/vnd.jupyter.widget-view+json": {
       "model_id": "",
       "version_major": 2,
       "version_minor": 0
      },
      "text/plain": [
       "FloatProgress(value=0.0, bar_style='info', description='Progress:', layout=Layout(height='25px', width='50%'),…"
      ]
     },
     "metadata": {},
     "output_type": "display_data"
    },
    {
     "name": "stdout",
     "output_type": "stream",
     "text": [
      "import java.sql.Timestamp\n",
      "defined class TaxiTrip\n",
      "defined object TaxiTrip\n",
      "warning: previously defined class TaxiTrip is not a companion to object TaxiTrip.\n",
      "Companions must be defined together; you may wish to use :paste mode for this.\n"
     ]
    }
   ],
   "source": [
    "import java.sql.Timestamp\n",
    "case class TaxiTrip(\n",
    "  pickup:Timestamp,\n",
    "  dropoff:Timestamp,\n",
    "  passenger:Long,\n",
    "  distance:Double,\n",
    "  startloc:Long,\n",
    "  endloc:String,\n",
    "  fare:Double\n",
    ")\n",
    "\n",
    "object TaxiTrip {\n",
    "    def extract(row:org.apache.spark.sql.Row) = {\n",
    "        val pickup = row.getTimestamp(1)\n",
    "        val dropoff = row.getTimestamp(2)\n",
    "        val passenger = row.getLong(3)\n",
    "        val distance = row.getDouble(4)\n",
    "        val startloc = row.getLong(5)\n",
    "        val endloc = row.getString(6)\n",
    "        val fare = row.getDouble(10)\n",
    "\n",
    "        new TaxiTrip(pickup,dropoff,passenger,distance,startloc,endloc,fare)\n",
    "    }\n",
    "}"
   ]
  },
  {
   "cell_type": "markdown",
   "id": "3e44b67e-1b67-4881-b3a6-79a87495677e",
   "metadata": {},
   "source": [
    "La seguente funzione serve per convertire da formato timestamp a calendar, in modo da poter estrarre informazioni come giorno del mese o ora del giorno."
   ]
  },
  {
   "cell_type": "code",
   "execution_count": 5,
   "id": "a9fa1161-e9f7-4f19-a586-d5d00f0d4fa6",
   "metadata": {
    "execution": {
     "iopub.execute_input": "2022-07-20T20:02:40.593166Z",
     "iopub.status.busy": "2022-07-20T20:02:40.592947Z",
     "iopub.status.idle": "2022-07-20T20:02:41.375273Z",
     "shell.execute_reply": "2022-07-20T20:02:41.374583Z",
     "shell.execute_reply.started": "2022-07-20T20:02:40.593141Z"
    },
    "tags": []
   },
   "outputs": [
    {
     "data": {
      "application/vnd.jupyter.widget-view+json": {
       "model_id": "3932650e79a14cc1a924e50f16176e85",
       "version_major": 2,
       "version_minor": 0
      },
      "text/plain": [
       "VBox()"
      ]
     },
     "metadata": {},
     "output_type": "display_data"
    },
    {
     "data": {
      "application/vnd.jupyter.widget-view+json": {
       "model_id": "",
       "version_major": 2,
       "version_minor": 0
      },
      "text/plain": [
       "FloatProgress(value=0.0, bar_style='info', description='Progress:', layout=Layout(height='25px', width='50%'),…"
      ]
     },
     "metadata": {},
     "output_type": "display_data"
    },
    {
     "name": "stdout",
     "output_type": "stream",
     "text": [
      "import java.util.Calendar\n",
      "getDayTime: (time: Long)java.util.Calendar\n"
     ]
    }
   ],
   "source": [
    "import java.util.Calendar\n",
    "def getDayTime(time: Long): Calendar = {\n",
    "    var date:Calendar = Calendar.getInstance();\n",
    "    date.setTimeInMillis(time);\n",
    "    date\n",
    "}"
   ]
  },
  {
   "cell_type": "markdown",
   "id": "349d7017-a58a-4de0-94f9-b00d8ae0ec7c",
   "metadata": {},
   "source": [
    "### Creazione e caching del RDD a partire dal file Parquet.\n",
    "Caching per migliorare le prestazioni in vista di futuri utilizzi.\n",
    "Si è optato per la scelta tenere due ripartizioni (quindi due task per core).\n",
    "Essendoci due executor con tre core ciascuno, il numero totale di core è sei.\n",
    "Quindi si è scelta una ripartizione di 12, anche se guardando i tempi di esecuzione il miglioramento è solo di qualche secondo."
   ]
  },
  {
   "cell_type": "code",
   "execution_count": 6,
   "id": "bb054f04-22b6-4726-9cf5-db6bf5b5b080",
   "metadata": {
    "execution": {
     "iopub.execute_input": "2022-07-20T20:02:47.097174Z",
     "iopub.status.busy": "2022-07-20T20:02:47.096947Z",
     "iopub.status.idle": "2022-07-20T20:02:50.417743Z",
     "shell.execute_reply": "2022-07-20T20:02:50.417027Z",
     "shell.execute_reply.started": "2022-07-20T20:02:47.097151Z"
    },
    "tags": []
   },
   "outputs": [
    {
     "data": {
      "application/vnd.jupyter.widget-view+json": {
       "model_id": "64f450921b1a4c518f398bdfa69e0217",
       "version_major": 2,
       "version_minor": 0
      },
      "text/plain": [
       "VBox()"
      ]
     },
     "metadata": {},
     "output_type": "display_data"
    },
    {
     "data": {
      "application/vnd.jupyter.widget-view+json": {
       "model_id": "",
       "version_major": 2,
       "version_minor": 0
      },
      "text/plain": [
       "FloatProgress(value=0.0, bar_style='info', description='Progress:', layout=Layout(height='25px', width='50%'),…"
      ]
     },
     "metadata": {},
     "output_type": "display_data"
    },
    {
     "name": "stdout",
     "output_type": "stream",
     "text": [
      "import org.apache.spark.HashPartitioner\n",
      "p: org.apache.spark.HashPartitioner = org.apache.spark.HashPartitioner@c\n",
      "data_rdd: org.apache.spark.rdd.RDD[org.apache.spark.sql.Row] = MapPartitionsRDD[9] at rdd at <console>:29\n",
      "data_rdd802: org.apache.spark.rdd.RDD[org.apache.spark.sql.Row] = MapPartitionsRDD[15] at rdd at <console>:29\n",
      "rddTaxiTrip: org.apache.spark.rdd.RDD[TaxiTrip] = MapPartitionsRDD[20] at repartition at <console>:30\n",
      "rddTaxiTrip2: org.apache.spark.rdd.RDD[TaxiTrip] = MapPartitionsRDD[25] at repartition at <console>:30\n"
     ]
    }
   ],
   "source": [
    "import org.apache.spark.HashPartitioner\n",
    "val p = new HashPartitioner(12)\n",
    "val data_rdd = parquetFileDF.rdd\n",
    "val data_rdd802 = parquetFileDF802.rdd\n",
    "val rddTaxiTrip = data_rdd.map(TaxiTrip.extract).repartition(12).cache()\n",
    "val rddTaxiTrip2 = data_rdd802.map(TaxiTrip.extract).repartition(12).cache()\n",
    "//val rddData = sc.parallelize(data_cached.take(10))\n",
    "//rddData.collect()\n",
    "//rddWeather.repartition(12).partitioner"
   ]
  },
  {
   "cell_type": "markdown",
   "id": "bada6634-be99-4845-a6a0-987dbfa1dfd3",
   "metadata": {},
   "source": [
    "### File di input\n",
    "Per tutte le seguenti query verranno utilizzati due file, i quali verranno uniti successivamente attraverso una union: il primo contenente i dati per il mese di gennaio 2018, il secondo contente i dati di febbraio 2018. Alternativamente se si vuole prendere in considerazione più dati, è possibile cambiare il percorso specificato precedentemente, dal file parquet alla cartella contente tutti e 12 file (rappresentanti i mesi dell’anno). La grandezza di input è di circa 117 mb a file."
   ]
  },
  {
   "cell_type": "markdown",
   "id": "9d01b569-ef0b-4c43-98c0-50a3e98adf01",
   "metadata": {},
   "source": [
    "### Numero totale di record"
   ]
  },
  {
   "cell_type": "code",
   "execution_count": 8,
   "id": "2990b2ee-c02a-401c-95f4-ed23636964c7",
   "metadata": {
    "execution": {
     "iopub.execute_input": "2022-07-13T21:13:10.750069Z",
     "iopub.status.busy": "2022-07-13T21:13:10.749848Z",
     "iopub.status.idle": "2022-07-13T21:14:02.171834Z",
     "shell.execute_reply": "2022-07-13T21:14:02.171131Z",
     "shell.execute_reply.started": "2022-07-13T21:13:10.750045Z"
    },
    "tags": []
   },
   "outputs": [
    {
     "data": {
      "application/vnd.jupyter.widget-view+json": {
       "model_id": "8ad31d1857f54d3ab3a81f87be36845e",
       "version_major": 2,
       "version_minor": 0
      },
      "text/plain": [
       "VBox()"
      ]
     },
     "metadata": {},
     "output_type": "display_data"
    },
    {
     "data": {
      "application/vnd.jupyter.widget-view+json": {
       "model_id": "",
       "version_major": 2,
       "version_minor": 0
      },
      "text/plain": [
       "FloatProgress(value=0.0, bar_style='info', description='Progress:', layout=Layout(height='25px', width='50%'),…"
      ]
     },
     "metadata": {},
     "output_type": "display_data"
    },
    {
     "name": "stdout",
     "output_type": "stream",
     "text": [
      "res16: Long = 8760687\n"
     ]
    }
   ],
   "source": [
    "rddTaxiTrip.count()"
   ]
  },
  {
   "cell_type": "markdown",
   "id": "489f7bcd-08b5-4a63-99cf-bf3356f96947",
   "metadata": {},
   "source": [
    "### Numero totale di zone di partenza diverse"
   ]
  },
  {
   "cell_type": "code",
   "execution_count": 7,
   "id": "89c391d3-f629-4433-97ee-7d4a1a36f08f",
   "metadata": {
    "execution": {
     "iopub.execute_input": "2022-07-20T20:03:13.227843Z",
     "iopub.status.busy": "2022-07-20T20:03:13.227625Z",
     "iopub.status.idle": "2022-07-20T20:04:08.792040Z",
     "shell.execute_reply": "2022-07-20T20:04:08.791231Z",
     "shell.execute_reply.started": "2022-07-20T20:03:13.227820Z"
    },
    "tags": []
   },
   "outputs": [
    {
     "data": {
      "application/vnd.jupyter.widget-view+json": {
       "model_id": "53962de4eaec4903b4afe9c24ead4346",
       "version_major": 2,
       "version_minor": 0
      },
      "text/plain": [
       "VBox()"
      ]
     },
     "metadata": {},
     "output_type": "display_data"
    },
    {
     "data": {
      "application/vnd.jupyter.widget-view+json": {
       "model_id": "",
       "version_major": 2,
       "version_minor": 0
      },
      "text/plain": [
       "FloatProgress(value=0.0, bar_style='info', description='Progress:', layout=Layout(height='25px', width='50%'),…"
      ]
     },
     "metadata": {},
     "output_type": "display_data"
    },
    {
     "name": "stdout",
     "output_type": "stream",
     "text": [
      "res11: Long = 7\n"
     ]
    }
   ],
   "source": [
    "rddTaxiTrip.map(x => x.startloc).distinct().count()"
   ]
  },
  {
   "cell_type": "markdown",
   "id": "8a517978-37e3-4f5e-92ea-f5683183662d",
   "metadata": {
    "execution": {
     "iopub.execute_input": "2022-07-08T13:55:26.671829Z",
     "iopub.status.busy": "2022-07-08T13:55:26.671585Z",
     "iopub.status.idle": "2022-07-08T13:55:26.934281Z",
     "shell.execute_reply": "2022-07-08T13:55:26.933571Z",
     "shell.execute_reply.started": "2022-07-08T13:55:26.671804Z"
    },
    "tags": []
   },
   "source": [
    "### Query 1\n",
    "Viaggi più lunghi in termine di km, in relazione con durata in minuti del viaggio"
   ]
  },
  {
   "cell_type": "code",
   "execution_count": 8,
   "id": "c4968c67-fc3c-4cd6-b68b-1c802ff03256",
   "metadata": {
    "execution": {
     "iopub.execute_input": "2022-07-20T20:14:47.019460Z",
     "iopub.status.busy": "2022-07-20T20:14:47.019233Z",
     "iopub.status.idle": "2022-07-20T20:14:47.792361Z",
     "shell.execute_reply": "2022-07-20T20:14:47.791784Z",
     "shell.execute_reply.started": "2022-07-20T20:14:47.019436Z"
    },
    "tags": []
   },
   "outputs": [
    {
     "data": {
      "application/vnd.jupyter.widget-view+json": {
       "model_id": "3496dd3e568a43cc8fca2d2522bc753f",
       "version_major": 2,
       "version_minor": 0
      },
      "text/plain": [
       "VBox()"
      ]
     },
     "metadata": {},
     "output_type": "display_data"
    },
    {
     "data": {
      "application/vnd.jupyter.widget-view+json": {
       "model_id": "",
       "version_major": 2,
       "version_minor": 0
      },
      "text/plain": [
       "FloatProgress(value=0.0, bar_style='info', description='Progress:', layout=Layout(height='25px', width='50%'),…"
      ]
     },
     "metadata": {},
     "output_type": "display_data"
    },
    {
     "name": "stdout",
     "output_type": "stream",
     "text": [
      "query1: org.apache.spark.rdd.RDD[(Double, Long)] = MapPartitionsRDD[30] at map at <console>:29\n",
      "query1802: org.apache.spark.rdd.RDD[(Double, Long)] = MapPartitionsRDD[31] at map at <console>:29\n"
     ]
    }
   ],
   "source": [
    "val query1 = rddTaxiTrip.map(x => (x.distance, (x.dropoff.getTime() - x.pickup.getTime())/(60*1000)))\n",
    "val query1802 = rddTaxiTrip2.map(x => (x.distance, (x.dropoff.getTime() - x.pickup.getTime())/(60*1000)))"
   ]
  },
  {
   "cell_type": "code",
   "execution_count": 9,
   "id": "3f0dbe63-99c4-47d8-8f21-7d4d37105916",
   "metadata": {
    "execution": {
     "iopub.execute_input": "2022-07-20T20:14:49.450321Z",
     "iopub.status.busy": "2022-07-20T20:14:49.450084Z",
     "iopub.status.idle": "2022-07-20T20:14:50.228465Z",
     "shell.execute_reply": "2022-07-20T20:14:50.227732Z",
     "shell.execute_reply.started": "2022-07-20T20:14:49.450296Z"
    },
    "tags": []
   },
   "outputs": [
    {
     "data": {
      "application/vnd.jupyter.widget-view+json": {
       "model_id": "d26469dbb3174ed68d39169b991d8d80",
       "version_major": 2,
       "version_minor": 0
      },
      "text/plain": [
       "VBox()"
      ]
     },
     "metadata": {},
     "output_type": "display_data"
    },
    {
     "data": {
      "application/vnd.jupyter.widget-view+json": {
       "model_id": "",
       "version_major": 2,
       "version_minor": 0
      },
      "text/plain": [
       "FloatProgress(value=0.0, bar_style='info', description='Progress:', layout=Layout(height='25px', width='50%'),…"
      ]
     },
     "metadata": {},
     "output_type": "display_data"
    },
    {
     "name": "stdout",
     "output_type": "stream",
     "text": [
      "query1union: org.apache.spark.rdd.RDD[(Double, Long)] = UnionRDD[32] at union at <console>:30\n"
     ]
    }
   ],
   "source": [
    "val query1union = query1.union(query1802).cache()"
   ]
  },
  {
   "cell_type": "code",
   "execution_count": 10,
   "id": "c73b5298-75c1-4f7d-980f-f274ea7d2ab9",
   "metadata": {
    "execution": {
     "iopub.execute_input": "2022-07-20T20:14:51.942725Z",
     "iopub.status.busy": "2022-07-20T20:14:51.942330Z",
     "iopub.status.idle": "2022-07-20T20:16:25.580887Z",
     "shell.execute_reply": "2022-07-20T20:16:25.580058Z",
     "shell.execute_reply.started": "2022-07-20T20:14:51.942691Z"
    },
    "tags": []
   },
   "outputs": [
    {
     "data": {
      "application/vnd.jupyter.widget-view+json": {
       "model_id": "e78c17a035e94aeb844c91bf21ded4c5",
       "version_major": 2,
       "version_minor": 0
      },
      "text/plain": [
       "VBox()"
      ]
     },
     "metadata": {},
     "output_type": "display_data"
    },
    {
     "data": {
      "application/vnd.jupyter.widget-view+json": {
       "model_id": "",
       "version_major": 2,
       "version_minor": 0
      },
      "text/plain": [
       "FloatProgress(value=0.0, bar_style='info', description='Progress:', layout=Layout(height='25px', width='50%'),…"
      ]
     },
     "metadata": {},
     "output_type": "display_data"
    },
    {
     "name": "stdout",
     "output_type": "stream",
     "text": [
      "res12: Array[(Double, Long)] = Array((189483.84,1), (1061.2,9), (830.8,5), (484.91,674), (270.4,0), (267.7,308), (252.1,284), (251.64,1198), (213.44,195), (204.81,226))\n"
     ]
    }
   ],
   "source": [
    "query1union.sortByKey(false).take(10)"
   ]
  },
  {
   "cell_type": "markdown",
   "id": "de28f160-fced-47c3-ab39-76ab25cef2ec",
   "metadata": {},
   "source": [
    "### Query 2\n",
    "Viaggi più costosi, in relazione con la somma tra la lunghezza e la durata in minuti del viaggio.\n",
    "Si puo notare come i due valori siano direttamente proporzionali.\n",
    "Aggiunto un filtro sulla zona di partenza"
   ]
  },
  {
   "cell_type": "code",
   "execution_count": 14,
   "id": "c604d912-b728-401c-b54c-4c5457d0a7ae",
   "metadata": {
    "execution": {
     "iopub.execute_input": "2022-07-13T21:18:17.821649Z",
     "iopub.status.busy": "2022-07-13T21:18:17.821426Z",
     "iopub.status.idle": "2022-07-13T21:18:18.583803Z",
     "shell.execute_reply": "2022-07-13T21:18:18.583051Z",
     "shell.execute_reply.started": "2022-07-13T21:18:17.821624Z"
    },
    "tags": []
   },
   "outputs": [
    {
     "data": {
      "application/vnd.jupyter.widget-view+json": {
       "model_id": "dd6aad87789b4ecf93e3e986a5607cc9",
       "version_major": 2,
       "version_minor": 0
      },
      "text/plain": [
       "VBox()"
      ]
     },
     "metadata": {},
     "output_type": "display_data"
    },
    {
     "data": {
      "application/vnd.jupyter.widget-view+json": {
       "model_id": "",
       "version_major": 2,
       "version_minor": 0
      },
      "text/plain": [
       "FloatProgress(value=0.0, bar_style='info', description='Progress:', layout=Layout(height='25px', width='50%'),…"
      ]
     },
     "metadata": {},
     "output_type": "display_data"
    },
    {
     "name": "stdout",
     "output_type": "stream",
     "text": [
      "query2: org.apache.spark.rdd.RDD[(Double, Double)] = MapPartitionsRDD[50] at map at <console>:31\n",
      "query2802: org.apache.spark.rdd.RDD[(Double, Double)] = MapPartitionsRDD[52] at map at <console>:31\n"
     ]
    }
   ],
   "source": [
    "val query2 = rddTaxiTrip.filter(_.distance > 10).map(x => (x.fare, ((x.dropoff.getTime() - x.pickup.getTime())/(60*1000) + x.distance)))\n",
    "val query2802 = rddTaxiTrip2.filter(_.distance > 10).map(x => (x.fare, ((x.dropoff.getTime() - x.pickup.getTime())/(60*1000) + x.distance)))"
   ]
  },
  {
   "cell_type": "code",
   "execution_count": 15,
   "id": "2838eef2-8220-4419-8f7c-d90f420f1b04",
   "metadata": {
    "execution": {
     "iopub.execute_input": "2022-07-13T21:18:20.236520Z",
     "iopub.status.busy": "2022-07-13T21:18:20.236278Z",
     "iopub.status.idle": "2022-07-13T21:18:20.996978Z",
     "shell.execute_reply": "2022-07-13T21:18:20.996237Z",
     "shell.execute_reply.started": "2022-07-13T21:18:20.236494Z"
    },
    "tags": []
   },
   "outputs": [
    {
     "data": {
      "application/vnd.jupyter.widget-view+json": {
       "model_id": "0206cc4abbda42349da2007f00519150",
       "version_major": 2,
       "version_minor": 0
      },
      "text/plain": [
       "VBox()"
      ]
     },
     "metadata": {},
     "output_type": "display_data"
    },
    {
     "data": {
      "application/vnd.jupyter.widget-view+json": {
       "model_id": "",
       "version_major": 2,
       "version_minor": 0
      },
      "text/plain": [
       "FloatProgress(value=0.0, bar_style='info', description='Progress:', layout=Layout(height='25px', width='50%'),…"
      ]
     },
     "metadata": {},
     "output_type": "display_data"
    },
    {
     "name": "stdout",
     "output_type": "stream",
     "text": [
      "query2union: org.apache.spark.rdd.RDD[(Double, Double)] = UnionRDD[53] at union at <console>:32\n"
     ]
    }
   ],
   "source": [
    "val query2union = query2.union(query2802).cache()"
   ]
  },
  {
   "cell_type": "code",
   "execution_count": 16,
   "id": "b8563223-5849-4d03-89d6-df62edb67ffd",
   "metadata": {
    "execution": {
     "iopub.execute_input": "2022-07-13T21:18:25.939597Z",
     "iopub.status.busy": "2022-07-13T21:18:25.939360Z",
     "iopub.status.idle": "2022-07-13T21:19:13.352993Z",
     "shell.execute_reply": "2022-07-13T21:19:13.352284Z",
     "shell.execute_reply.started": "2022-07-13T21:18:25.939572Z"
    },
    "tags": []
   },
   "outputs": [
    {
     "data": {
      "application/vnd.jupyter.widget-view+json": {
       "model_id": "5df22ae8a46f4b158de58abee1ee28e9",
       "version_major": 2,
       "version_minor": 0
      },
      "text/plain": [
       "VBox()"
      ]
     },
     "metadata": {},
     "output_type": "display_data"
    },
    {
     "data": {
      "application/vnd.jupyter.widget-view+json": {
       "model_id": "",
       "version_major": 2,
       "version_minor": 0
      },
      "text/plain": [
       "FloatProgress(value=0.0, bar_style='info', description='Progress:', layout=Layout(height='25px', width='50%'),…"
      ]
     },
     "metadata": {},
     "output_type": "display_data"
    },
    {
     "name": "stdout",
     "output_type": "stream",
     "text": [
      "res20: Array[(Double, Double)] = Array((2409.0,1158.91), (1176.0,1449.6399999999999), (1020.5,430.81), (950.0,575.7), (935.5,371.9), (916.0,893.4), (700.01,55.3), (700.0,536.1), (690.0,268.5), (557.0,318.1))\n"
     ]
    }
   ],
   "source": [
    "query2union.sortByKey(false).take(10)"
   ]
  },
  {
   "cell_type": "markdown",
   "id": "ef4ba404-c9a4-4de9-86af-5e6647510cab",
   "metadata": {},
   "source": [
    "### Query 3\n",
    "Query per vedere i viaggi più lunghi in minuti in relazione ad una certa zona; groupbykey per vedere tutti i viaggi di una certa zona.\n",
    "PartitionBy dopo il primo mapping per ottimizzare la compuitazione degli rdd, tenendo presente la regola di partizione descritta precedentemente.\n",
    "Sort dopo il groupby per una computazione piu' veloce (meno lavoro fa computare essendo i record gia raggruppati per chiave)"
   ]
  },
  {
   "cell_type": "markdown",
   "id": "fe9a7ebc-5259-41b1-a83a-d20de251b8eb",
   "metadata": {},
   "source": [
    "Query per vedere la lunghezza media in minuti dei viaggi in base alla zona di partenza"
   ]
  },
  {
   "cell_type": "code",
   "execution_count": 11,
   "id": "fcef83c8-b7f1-41e0-9f0f-8e147b96e416",
   "metadata": {
    "execution": {
     "iopub.execute_input": "2022-07-20T20:47:42.863739Z",
     "iopub.status.busy": "2022-07-20T20:47:42.863474Z",
     "iopub.status.idle": "2022-07-20T20:47:43.635626Z",
     "shell.execute_reply": "2022-07-20T20:47:43.634234Z",
     "shell.execute_reply.started": "2022-07-20T20:47:42.863713Z"
    },
    "tags": []
   },
   "outputs": [
    {
     "data": {
      "application/vnd.jupyter.widget-view+json": {
       "model_id": "8b04ceb5684e4b4984c437dbfae36dc9",
       "version_major": 2,
       "version_minor": 0
      },
      "text/plain": [
       "VBox()"
      ]
     },
     "metadata": {},
     "output_type": "display_data"
    },
    {
     "data": {
      "application/vnd.jupyter.widget-view+json": {
       "model_id": "",
       "version_major": 2,
       "version_minor": 0
      },
      "text/plain": [
       "FloatProgress(value=0.0, bar_style='info', description='Progress:', layout=Layout(height='25px', width='50%'),…"
      ]
     },
     "metadata": {},
     "output_type": "display_data"
    },
    {
     "name": "stdout",
     "output_type": "stream",
     "text": [
      "query3: org.apache.spark.rdd.RDD[(Long, Long)] = ShuffledRDD[37] at partitionBy at <console>:30\n",
      "query3802: org.apache.spark.rdd.RDD[(Long, Long)] = ShuffledRDD[39] at partitionBy at <console>:30\n"
     ]
    }
   ],
   "source": [
    "val query3 = rddTaxiTrip.map(x => (x.startloc, (x.dropoff.getTime() - x.pickup.getTime())/(60*1000))).partitionBy(p)\n",
    "val query3802 = rddTaxiTrip2.map(x => (x.startloc, (x.dropoff.getTime() - x.pickup.getTime())/(60*1000))).partitionBy(p)"
   ]
  },
  {
   "cell_type": "code",
   "execution_count": 12,
   "id": "7fcec778-ec9e-4e93-ac9d-8e1a1a89037d",
   "metadata": {
    "execution": {
     "iopub.execute_input": "2022-07-20T20:47:45.378780Z",
     "iopub.status.busy": "2022-07-20T20:47:45.378552Z",
     "iopub.status.idle": "2022-07-20T20:47:46.151212Z",
     "shell.execute_reply": "2022-07-20T20:47:46.150484Z",
     "shell.execute_reply.started": "2022-07-20T20:47:45.378756Z"
    },
    "tags": []
   },
   "outputs": [
    {
     "data": {
      "application/vnd.jupyter.widget-view+json": {
       "model_id": "a7cb4adf7334453780c46351c97ae486",
       "version_major": 2,
       "version_minor": 0
      },
      "text/plain": [
       "VBox()"
      ]
     },
     "metadata": {},
     "output_type": "display_data"
    },
    {
     "data": {
      "application/vnd.jupyter.widget-view+json": {
       "model_id": "",
       "version_major": 2,
       "version_minor": 0
      },
      "text/plain": [
       "FloatProgress(value=0.0, bar_style='info', description='Progress:', layout=Layout(height='25px', width='50%'),…"
      ]
     },
     "metadata": {},
     "output_type": "display_data"
    },
    {
     "name": "stdout",
     "output_type": "stream",
     "text": [
      "query3union: org.apache.spark.rdd.RDD[(Long, Long)] = PartitionerAwareUnionRDD[40] at union at <console>:30\n"
     ]
    }
   ],
   "source": [
    "val query3union = query3.union(query3802).cache()"
   ]
  },
  {
   "cell_type": "code",
   "execution_count": 13,
   "id": "f8738128-26d1-40b5-8d6c-c4a8e24a34f5",
   "metadata": {
    "execution": {
     "iopub.execute_input": "2022-07-20T20:47:47.566686Z",
     "iopub.status.busy": "2022-07-20T20:47:47.566454Z",
     "iopub.status.idle": "2022-07-20T20:48:37.026170Z",
     "shell.execute_reply": "2022-07-20T20:48:37.025535Z",
     "shell.execute_reply.started": "2022-07-20T20:47:47.566661Z"
    },
    "tags": []
   },
   "outputs": [
    {
     "data": {
      "application/vnd.jupyter.widget-view+json": {
       "model_id": "fc4b74c3dc9f4a80ba5ac1a5d4a7b7f3",
       "version_major": 2,
       "version_minor": 0
      },
      "text/plain": [
       "VBox()"
      ]
     },
     "metadata": {},
     "output_type": "display_data"
    },
    {
     "data": {
      "application/vnd.jupyter.widget-view+json": {
       "model_id": "",
       "version_major": 2,
       "version_minor": 0
      },
      "text/plain": [
       "FloatProgress(value=0.0, bar_style='info', description='Progress:', layout=Layout(height='25px', width='50%'),…"
      ]
     },
     "metadata": {},
     "output_type": "display_data"
    },
    {
     "name": "stdout",
     "output_type": "stream",
     "text": [
      "res13: Array[(Long, Long)] = Array((45,2), (42,3), (42,4), (16,5), (14,1), (7,99), (1,6))\n"
     ]
    }
   ],
   "source": [
    "query3union.groupByKey().map({case(k,v) => (v.sum/v.size,k)}).sortByKey(false).take(10)"
   ]
  },
  {
   "cell_type": "markdown",
   "id": "ca034aad-2110-44b0-8841-0f302d9235ce",
   "metadata": {},
   "source": [
    "### Query 4\n",
    "Map per group by location/time, reduceByKey per contare le occorrenze dei record, map scambiare chiave-valore per poter ordinare i valori per vedere le zone/periodi piu gettonati."
   ]
  },
  {
   "cell_type": "code",
   "execution_count": 20,
   "id": "b4724f66-36d4-400d-930a-488caadd8bc6",
   "metadata": {
    "execution": {
     "iopub.execute_input": "2022-07-13T21:28:00.648449Z",
     "iopub.status.busy": "2022-07-13T21:28:00.648224Z",
     "iopub.status.idle": "2022-07-13T21:28:11.942353Z",
     "shell.execute_reply": "2022-07-13T21:28:11.941631Z",
     "shell.execute_reply.started": "2022-07-13T21:28:00.648425Z"
    },
    "tags": []
   },
   "outputs": [
    {
     "data": {
      "application/vnd.jupyter.widget-view+json": {
       "model_id": "0addc1c8b6bb4826934b0996caa5a924",
       "version_major": 2,
       "version_minor": 0
      },
      "text/plain": [
       "VBox()"
      ]
     },
     "metadata": {},
     "output_type": "display_data"
    },
    {
     "data": {
      "application/vnd.jupyter.widget-view+json": {
       "model_id": "",
       "version_major": 2,
       "version_minor": 0
      },
      "text/plain": [
       "FloatProgress(value=0.0, bar_style='info', description='Progress:', layout=Layout(height='25px', width='50%'),…"
      ]
     },
     "metadata": {},
     "output_type": "display_data"
    },
    {
     "name": "stdout",
     "output_type": "stream",
     "text": [
      "res22: Array[(Int, Long)] = Array((8533295,1), (179273,2), (27735,5), (15129,3), (5080,4), (106,99), (69,6))\n"
     ]
    }
   ],
   "source": [
    "rddTaxiTrip.map(x => (x.startloc, 1)).reduceByKey((x,y) => x + y).map({case(k,v) => (v,k)}).sortByKey(false).collect()"
   ]
  },
  {
   "cell_type": "markdown",
   "id": "35bced7f-584b-4b44-920f-6b531577850f",
   "metadata": {},
   "source": [
    "Le due seguenti query per visualizzare gli orari e giorni della settimana più utilizzati "
   ]
  },
  {
   "cell_type": "code",
   "execution_count": 21,
   "id": "0eb82740-c84d-49d9-8476-5e026a4ab53f",
   "metadata": {
    "execution": {
     "iopub.execute_input": "2022-07-13T21:28:19.870519Z",
     "iopub.status.busy": "2022-07-13T21:28:19.870285Z",
     "iopub.status.idle": "2022-07-13T21:28:20.630914Z",
     "shell.execute_reply": "2022-07-13T21:28:20.630346Z",
     "shell.execute_reply.started": "2022-07-13T21:28:19.870493Z"
    },
    "tags": []
   },
   "outputs": [
    {
     "data": {
      "application/vnd.jupyter.widget-view+json": {
       "model_id": "45599b405a3a4cd181029fb56d7785da",
       "version_major": 2,
       "version_minor": 0
      },
      "text/plain": [
       "VBox()"
      ]
     },
     "metadata": {},
     "output_type": "display_data"
    },
    {
     "data": {
      "application/vnd.jupyter.widget-view+json": {
       "model_id": "",
       "version_major": 2,
       "version_minor": 0
      },
      "text/plain": [
       "FloatProgress(value=0.0, bar_style='info', description='Progress:', layout=Layout(height='25px', width='50%'),…"
      ]
     },
     "metadata": {},
     "output_type": "display_data"
    },
    {
     "name": "stdout",
     "output_type": "stream",
     "text": [
      "query4: org.apache.spark.rdd.RDD[(Int, Int)] = ShuffledRDD[74] at partitionBy at <console>:33\n",
      "query4802: org.apache.spark.rdd.RDD[(Int, Int)] = ShuffledRDD[76] at partitionBy at <console>:33\n"
     ]
    }
   ],
   "source": [
    "val query4 = rddTaxiTrip.map(x => (getDayTime(x.pickup.getTime()).get(Calendar.HOUR_OF_DAY), 1)).partitionBy(p)\n",
    "val query4802 = rddTaxiTrip2.map(x => (getDayTime(x.pickup.getTime()).get(Calendar.HOUR_OF_DAY), 1)).partitionBy(p)"
   ]
  },
  {
   "cell_type": "code",
   "execution_count": 22,
   "id": "22a6443c-741f-4367-98a9-6ca79b4827dc",
   "metadata": {
    "execution": {
     "iopub.execute_input": "2022-07-13T21:28:23.425344Z",
     "iopub.status.busy": "2022-07-13T21:28:23.425118Z",
     "iopub.status.idle": "2022-07-13T21:28:24.186820Z",
     "shell.execute_reply": "2022-07-13T21:28:24.186046Z",
     "shell.execute_reply.started": "2022-07-13T21:28:23.425318Z"
    },
    "tags": []
   },
   "outputs": [
    {
     "data": {
      "application/vnd.jupyter.widget-view+json": {
       "model_id": "7da86b404edb481ea661107490918c76",
       "version_major": 2,
       "version_minor": 0
      },
      "text/plain": [
       "VBox()"
      ]
     },
     "metadata": {},
     "output_type": "display_data"
    },
    {
     "data": {
      "application/vnd.jupyter.widget-view+json": {
       "model_id": "",
       "version_major": 2,
       "version_minor": 0
      },
      "text/plain": [
       "FloatProgress(value=0.0, bar_style='info', description='Progress:', layout=Layout(height='25px', width='50%'),…"
      ]
     },
     "metadata": {},
     "output_type": "display_data"
    },
    {
     "name": "stdout",
     "output_type": "stream",
     "text": [
      "query4union: org.apache.spark.rdd.RDD[(Int, Int)] = PartitionerAwareUnionRDD[77] at union at <console>:32\n"
     ]
    }
   ],
   "source": [
    "val query4union = query4.union(query4802).cache()"
   ]
  },
  {
   "cell_type": "code",
   "execution_count": 34,
   "id": "3b340f5f-512b-4b65-b9ec-b5e1dcfcfabf",
   "metadata": {
    "execution": {
     "iopub.execute_input": "2022-07-13T21:54:49.799957Z",
     "iopub.status.busy": "2022-07-13T21:54:49.799724Z",
     "iopub.status.idle": "2022-07-13T21:54:55.080774Z",
     "shell.execute_reply": "2022-07-13T21:54:55.080162Z",
     "shell.execute_reply.started": "2022-07-13T21:54:49.799932Z"
    },
    "tags": []
   },
   "outputs": [
    {
     "data": {
      "application/vnd.jupyter.widget-view+json": {
       "model_id": "d739832370b340debf7af93f6ab56a84",
       "version_major": 2,
       "version_minor": 0
      },
      "text/plain": [
       "VBox()"
      ]
     },
     "metadata": {},
     "output_type": "display_data"
    },
    {
     "data": {
      "application/vnd.jupyter.widget-view+json": {
       "model_id": "",
       "version_major": 2,
       "version_minor": 0
      },
      "text/plain": [
       "FloatProgress(value=0.0, bar_style='info', description='Progress:', layout=Layout(height='25px', width='50%'),…"
      ]
     },
     "metadata": {},
     "output_type": "display_data"
    },
    {
     "name": "stdout",
     "output_type": "stream",
     "text": [
      "res30: Array[(Int, Int)] = Array((1134621,18), (1071054,19), (1016000,17), (967043,15), (950874,20), (948483,14), (944772,21), (903898,16), (895293,13), (884236,22), (883709,12), (824693,9), (822848,8), (819874,11), (796772,10), (694060,23), (654813,7), (512199,0), (384824,6), (362372,1), (269327,2), (194167,3), (166529,5), (151045,4))\n"
     ]
    }
   ],
   "source": [
    "query4union.reduceByKey((x,y) => x + y).map({case(k,v) => (v,k)}).sortByKey(false).collect()"
   ]
  },
  {
   "cell_type": "code",
   "execution_count": 55,
   "id": "54664a78-fba4-4cb2-98f1-e93a8a53afa6",
   "metadata": {
    "execution": {
     "iopub.execute_input": "2022-07-13T22:23:42.608557Z",
     "iopub.status.busy": "2022-07-13T22:23:42.608328Z",
     "iopub.status.idle": "2022-07-13T22:23:49.899476Z",
     "shell.execute_reply": "2022-07-13T22:23:49.898711Z",
     "shell.execute_reply.started": "2022-07-13T22:23:42.608532Z"
    },
    "tags": []
   },
   "outputs": [
    {
     "data": {
      "application/vnd.jupyter.widget-view+json": {
       "model_id": "6ad45b2f304043988cf1e69738424fb2",
       "version_major": 2,
       "version_minor": 0
      },
      "text/plain": [
       "VBox()"
      ]
     },
     "metadata": {},
     "output_type": "display_data"
    },
    {
     "data": {
      "application/vnd.jupyter.widget-view+json": {
       "model_id": "",
       "version_major": 2,
       "version_minor": 0
      },
      "text/plain": [
       "FloatProgress(value=0.0, bar_style='info', description='Progress:', layout=Layout(height='25px', width='50%'),…"
      ]
     },
     "metadata": {},
     "output_type": "display_data"
    },
    {
     "name": "stdout",
     "output_type": "stream",
     "text": [
      "res46: Array[(Int, Int)] = Array((1134621,18), (1071054,19), (1016000,17), (967043,15), (950874,20), (948483,14), (944772,21), (903898,16), (895293,13), (884236,22), (883709,12), (824693,9), (822848,8), (819874,11), (796772,10), (694060,23), (654813,7), (512199,0), (384824,6), (362372,1), (269327,2), (194167,3), (166529,5), (151045,4))\n"
     ]
    }
   ],
   "source": [
    "query4union.reduceByKey((x,y) => x + y).map({case(k,v) => (v,k)}).sortByKey(false).collect()"
   ]
  },
  {
   "cell_type": "markdown",
   "id": "a93aa969-e4b6-4aa8-a16e-4b1b661c7653",
   "metadata": {},
   "source": [
    "Salvataggio in file csv per successiva visualizzazione dati con Tableau "
   ]
  },
  {
   "cell_type": "code",
   "execution_count": null,
   "id": "9593cf5f-c22d-4a51-ad5e-5ade1d16e30e",
   "metadata": {
    "tags": []
   },
   "outputs": [],
   "source": [
    "val tableau = rddTaxiTrip.map(x => (getDayTime(x.pickup.getTime()).get(Calendar.DAY_OF_WEEK), 1)).\n",
    "                    reduceByKey((x,y) => x + y).map({case(k,v) => (v,k)}).sortByKey(false)"
   ]
  },
  {
   "cell_type": "code",
   "execution_count": null,
   "id": "b79a5ae3-1e4d-4dc2-bd6e-8da56671f07d",
   "metadata": {
    "tags": []
   },
   "outputs": [],
   "source": [
    "//import org.apache.spark.sql.SaveMode\n",
    "//tableau.coalesce(1).toDF().write.format(\"csv\").mode(SaveMode.Overwrite).save(\"s3a://\"+bucketname+\"/datasets/project/output/mostTripsByHour\")"
   ]
  },
  {
   "cell_type": "markdown",
   "id": "34918104-48c3-4931-921f-f67aa0e2d347",
   "metadata": {},
   "source": [
    "### Query 5\n",
    "Distanza media percorsa dai taxi in un singolo viaggio, in relazione alla zona.\n",
    "Aggregazione eseguita prima dell'union effettivo per ridurre i tempi di esecuzione."
   ]
  },
  {
   "cell_type": "code",
   "execution_count": null,
   "id": "6fd7826a-a87c-402f-af52-ef41f630bde3",
   "metadata": {
    "tags": []
   },
   "outputs": [],
   "source": [
    "val query5 = rddTaxiTrip.filter(_.distance < 100).map(x => (x.startloc, x.distance)).\n",
    "            aggregateByKey((0.0,0.0))((a,v)=>(a._1+v,a._2+1), (a1,a2)=>(a1._1+a2._1,a1._2+a2._2)).partitionBy(p)\n",
    "val query5802 = rddTaxiTrip2.filter(_.distance < 100).map(x => (x.startloc, x.distance)).\n",
    "            aggregateByKey((0.0,0.0))((a,v)=>(a._1+v,a._2+1), (a1,a2)=>(a1._1+a2._1,a1._2+a2._2)).partitionBy(p)"
   ]
  },
  {
   "cell_type": "code",
   "execution_count": 26,
   "id": "dbe7d640-a0ed-414f-ac69-d05714700e57",
   "metadata": {
    "execution": {
     "iopub.execute_input": "2022-07-13T21:29:45.390534Z",
     "iopub.status.busy": "2022-07-13T21:29:45.390307Z",
     "iopub.status.idle": "2022-07-13T21:29:46.151173Z",
     "shell.execute_reply": "2022-07-13T21:29:46.150507Z",
     "shell.execute_reply.started": "2022-07-13T21:29:45.390509Z"
    },
    "tags": []
   },
   "outputs": [
    {
     "data": {
      "application/vnd.jupyter.widget-view+json": {
       "model_id": "3d753f83cfa042b89d4e9477e61f3ac0",
       "version_major": 2,
       "version_minor": 0
      },
      "text/plain": [
       "VBox()"
      ]
     },
     "metadata": {},
     "output_type": "display_data"
    },
    {
     "data": {
      "application/vnd.jupyter.widget-view+json": {
       "model_id": "",
       "version_major": 2,
       "version_minor": 0
      },
      "text/plain": [
       "FloatProgress(value=0.0, bar_style='info', description='Progress:', layout=Layout(height='25px', width='50%'),…"
      ]
     },
     "metadata": {},
     "output_type": "display_data"
    },
    {
     "name": "stdout",
     "output_type": "stream",
     "text": [
      "query5union: org.apache.spark.rdd.RDD[(Long, (Double, Double))] = PartitionerAwareUnionRDD[95] at union at <console>:32\n"
     ]
    }
   ],
   "source": [
    "val query5union = query5.union(query5802).cache()"
   ]
  },
  {
   "cell_type": "code",
   "execution_count": 27,
   "id": "83dfd350-b7b9-476b-932f-76e104360b57",
   "metadata": {
    "execution": {
     "iopub.execute_input": "2022-07-13T21:29:47.729221Z",
     "iopub.status.busy": "2022-07-13T21:29:47.729014Z",
     "iopub.status.idle": "2022-07-13T21:30:23.123633Z",
     "shell.execute_reply": "2022-07-13T21:30:23.122829Z",
     "shell.execute_reply.started": "2022-07-13T21:29:47.729197Z"
    },
    "tags": []
   },
   "outputs": [
    {
     "data": {
      "application/vnd.jupyter.widget-view+json": {
       "model_id": "9c0edf358272481e87656edc91415463",
       "version_major": 2,
       "version_minor": 0
      },
      "text/plain": [
       "VBox()"
      ]
     },
     "metadata": {},
     "output_type": "display_data"
    },
    {
     "data": {
      "application/vnd.jupyter.widget-view+json": {
       "model_id": "",
       "version_major": 2,
       "version_minor": 0
      },
      "text/plain": [
       "FloatProgress(value=0.0, bar_style='info', description='Progress:', layout=Layout(height='25px', width='50%'),…"
      ]
     },
     "metadata": {},
     "output_type": "display_data"
    },
    {
     "name": "stdout",
     "output_type": "stream",
     "text": [
      "res25: Array[(Double, Long)] = Array((18.272109870868892,4), (17.795655769988183,4), (17.03518382578527,2), (16.993668001025206,2), (16.66991076150185,3), (16.37588990575058,3), (5.870928177194196,5), (5.345708166422089,5), (2.4477249319437977,1), (2.4389944840742377,1), (1.0672463768115945,6), (0.9196825396825397,6), (0.05377358490566038,99), (0.027522935779816515,99))\n"
     ]
    }
   ],
   "source": [
    "query5union.map({case(k,v)=>(k,v._1/v._2)}).map({case(k,v) => (v,k)}).sortByKey(false).collect()"
   ]
  },
  {
   "cell_type": "markdown",
   "id": "14b614e5-03ff-41dc-aa93-400e10a10845",
   "metadata": {},
   "source": [
    "### Query 6\n",
    "Numero di viaggi in base alla fascia oraria, per vedere le più trafficate per passeggeri."
   ]
  },
  {
   "cell_type": "code",
   "execution_count": 28,
   "id": "ef0cfaeb-63d5-4252-afde-35728c56af00",
   "metadata": {
    "execution": {
     "iopub.execute_input": "2022-07-13T21:30:44.740537Z",
     "iopub.status.busy": "2022-07-13T21:30:44.740306Z",
     "iopub.status.idle": "2022-07-13T21:30:45.502533Z",
     "shell.execute_reply": "2022-07-13T21:30:45.501813Z",
     "shell.execute_reply.started": "2022-07-13T21:30:44.740512Z"
    },
    "tags": []
   },
   "outputs": [
    {
     "data": {
      "application/vnd.jupyter.widget-view+json": {
       "model_id": "7576d46a6f154bbdbdda132dde7da548",
       "version_major": 2,
       "version_minor": 0
      },
      "text/plain": [
       "VBox()"
      ]
     },
     "metadata": {},
     "output_type": "display_data"
    },
    {
     "data": {
      "application/vnd.jupyter.widget-view+json": {
       "model_id": "",
       "version_major": 2,
       "version_minor": 0
      },
      "text/plain": [
       "FloatProgress(value=0.0, bar_style='info', description='Progress:', layout=Layout(height='25px', width='50%'),…"
      ]
     },
     "metadata": {},
     "output_type": "display_data"
    },
    {
     "name": "stdout",
     "output_type": "stream",
     "text": [
      "query6: org.apache.spark.rdd.RDD[(Int, Long)] = ShuffledRDD[102] at partitionBy at <console>:33\n",
      "query6802: org.apache.spark.rdd.RDD[(Int, Long)] = ShuffledRDD[104] at partitionBy at <console>:33\n"
     ]
    }
   ],
   "source": [
    "val query6 = rddTaxiTrip.map(x => (getDayTime(x.pickup.getTime()).get(Calendar.HOUR_OF_DAY), x.passenger)).partitionBy(p)\n",
    "val query6802 = rddTaxiTrip2.map(x => (getDayTime(x.pickup.getTime()).get(Calendar.HOUR_OF_DAY), x.passenger)).partitionBy(p)"
   ]
  },
  {
   "cell_type": "code",
   "execution_count": 29,
   "id": "e8fcbf91-8240-4be2-adf2-cb5d390720e4",
   "metadata": {
    "execution": {
     "iopub.execute_input": "2022-07-13T21:30:46.974553Z",
     "iopub.status.busy": "2022-07-13T21:30:46.974326Z",
     "iopub.status.idle": "2022-07-13T21:30:47.231426Z",
     "shell.execute_reply": "2022-07-13T21:30:47.230717Z",
     "shell.execute_reply.started": "2022-07-13T21:30:46.974527Z"
    },
    "tags": []
   },
   "outputs": [
    {
     "data": {
      "application/vnd.jupyter.widget-view+json": {
       "model_id": "c51314fe01904654a9bec074949d7cf2",
       "version_major": 2,
       "version_minor": 0
      },
      "text/plain": [
       "VBox()"
      ]
     },
     "metadata": {},
     "output_type": "display_data"
    },
    {
     "data": {
      "application/vnd.jupyter.widget-view+json": {
       "model_id": "",
       "version_major": 2,
       "version_minor": 0
      },
      "text/plain": [
       "FloatProgress(value=0.0, bar_style='info', description='Progress:', layout=Layout(height='25px', width='50%'),…"
      ]
     },
     "metadata": {},
     "output_type": "display_data"
    },
    {
     "name": "stdout",
     "output_type": "stream",
     "text": [
      "query6union: org.apache.spark.rdd.RDD[(Int, Long)] = PartitionerAwareUnionRDD[105] at union at <console>:32\n"
     ]
    }
   ],
   "source": [
    "val query6union = query6.union(query6802).cache()"
   ]
  },
  {
   "cell_type": "code",
   "execution_count": 30,
   "id": "fd0e6cda-e97a-494a-9eb2-b2fb87f1fcf7",
   "metadata": {
    "execution": {
     "iopub.execute_input": "2022-07-13T21:30:49.321282Z",
     "iopub.status.busy": "2022-07-13T21:30:49.321070Z",
     "iopub.status.idle": "2022-07-13T21:31:22.690403Z",
     "shell.execute_reply": "2022-07-13T21:31:22.689727Z",
     "shell.execute_reply.started": "2022-07-13T21:30:49.321259Z"
    },
    "tags": []
   },
   "outputs": [
    {
     "data": {
      "application/vnd.jupyter.widget-view+json": {
       "model_id": "7d11d152680a4c698f353fea349c8b02",
       "version_major": 2,
       "version_minor": 0
      },
      "text/plain": [
       "VBox()"
      ]
     },
     "metadata": {},
     "output_type": "display_data"
    },
    {
     "data": {
      "application/vnd.jupyter.widget-view+json": {
       "model_id": "",
       "version_major": 2,
       "version_minor": 0
      },
      "text/plain": [
       "FloatProgress(value=0.0, bar_style='info', description='Progress:', layout=Layout(height='25px', width='50%'),…"
      ]
     },
     "metadata": {},
     "output_type": "display_data"
    },
    {
     "name": "stdout",
     "output_type": "stream",
     "text": [
      "res26: Array[(Double, Int)] = Array((1.65,1), (1.65,2), (1.65,3), (1.64,0), (1.64,4), (1.64,22), (1.64,23), (1.63,21), (1.61,19), (1.61,20), (1.6,15), (1.6,17), (1.6,18), (1.59,12), (1.59,13), (1.59,14), (1.59,16), (1.59,11), (1.57,10), (1.55,8), (1.55,9), (1.54,5), (1.54,7), (1.51,6))\n"
     ]
    }
   ],
   "source": [
    "query6union.groupByKey().map({case(k,v) => ((math floor (v.sum.toDouble/v.size) * 100) / 100,k)}).sortByKey(false).collect()"
   ]
  },
  {
   "cell_type": "code",
   "execution_count": null,
   "id": "83cb56fd-417b-4c66-8587-36fe53c06539",
   "metadata": {},
   "outputs": [],
   "source": []
  },
  {
   "cell_type": "markdown",
   "id": "d435e503-a23f-435c-9333-fa45cfbdf814",
   "metadata": {},
   "source": [
    "Infine i file parquet possono anche essere utlizzati per creare delle \"view\" temporanee e essere usati per query SQL"
   ]
  },
  {
   "cell_type": "code",
   "execution_count": 56,
   "id": "53ae7943-0416-453f-96e2-32dd12b3ac5c",
   "metadata": {
    "execution": {
     "iopub.execute_input": "2022-07-13T22:25:19.919588Z",
     "iopub.status.busy": "2022-07-13T22:25:19.919279Z",
     "iopub.status.idle": "2022-07-13T22:25:20.700318Z",
     "shell.execute_reply": "2022-07-13T22:25:20.699580Z",
     "shell.execute_reply.started": "2022-07-13T22:25:19.919550Z"
    },
    "tags": []
   },
   "outputs": [
    {
     "data": {
      "application/vnd.jupyter.widget-view+json": {
       "model_id": "7ea2105e8f4e4a6f83451bc30de7258b",
       "version_major": 2,
       "version_minor": 0
      },
      "text/plain": [
       "VBox()"
      ]
     },
     "metadata": {},
     "output_type": "display_data"
    },
    {
     "data": {
      "application/vnd.jupyter.widget-view+json": {
       "model_id": "",
       "version_major": 2,
       "version_minor": 0
      },
      "text/plain": [
       "FloatProgress(value=0.0, bar_style='info', description='Progress:', layout=Layout(height='25px', width='50%'),…"
      ]
     },
     "metadata": {},
     "output_type": "display_data"
    },
    {
     "name": "stdout",
     "output_type": "stream",
     "text": [
      "parkDF: org.apache.spark.sql.DataFrame = [VendorID: bigint, tpep_pickup_datetime: timestamp ... 17 more fields]\n",
      "res48: org.apache.spark.sql.DataFrame = [VendorID: bigint, tpep_pickup_datetime: timestamp ... 17 more fields]\n"
     ]
    }
   ],
   "source": [
    "parquetFileDF.createOrReplaceTempView(\"parquetFile\")\n",
    "val parkDF = spark.sql(\"SELECT * FROM parquetFile\")\n",
    "parkDF"
   ]
  }
 ],
 "metadata": {
  "kernelspec": {
   "display_name": "Spark",
   "language": "scala",
   "name": "sparkkernel"
  },
  "language_info": {
   "codemirror_mode": "text/x-scala",
   "file_extension": ".sc",
   "mimetype": "text/x-scala",
   "name": "scala",
   "pygments_lexer": "scala"
  }
 },
 "nbformat": 4,
 "nbformat_minor": 5
}
